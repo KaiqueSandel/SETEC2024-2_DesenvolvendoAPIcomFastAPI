{
  "nbformat": 4,
  "nbformat_minor": 0,
  "metadata": {
    "colab": {
      "provenance": []
    },
    "kernelspec": {
      "name": "python3",
      "display_name": "Python 3"
    },
    "language_info": {
      "name": "python"
    }
  },
  "cells": [
    {
      "cell_type": "code",
      "execution_count": null,
      "metadata": {
        "id": "zY_03f5LWLNG"
      },
      "outputs": [],
      "source": [
        "!pip install fastapi uvicorn nest-asyncio pyngrok"
      ]
    },
    {
      "cell_type": "code",
      "source": [
        "!ngrok authtoken #seutoken"
      ],
      "metadata": {
        "id": "cryAlHT2cKFO"
      },
      "execution_count": null,
      "outputs": []
    },
    {
      "cell_type": "code",
      "source": [
        "from fastapi import FastAPI\n",
        "from pyngrok import ngrok\n",
        "import nest_asyncio\n",
        "import uvicorn\n",
        "\n",
        "#Para funcionar no colab\n",
        "\n",
        "nest_asyncio.apply()\n",
        "\n",
        "app = FastAPI()\n",
        "\n",
        "\n",
        "@app.get(\"/home\")\n",
        "\n",
        "def home():\n",
        "  return {\"valor\": \"Olá mundo!\"}\n",
        "\n",
        "@app.get(\"/dados-cliente\")\n",
        "def retornar_dados_cliente():\n",
        "  return {\"nome\": \"Andres\", \"idade\": \"20\", \"formação\": \"ADS\"}\n",
        "\n",
        "url_publica = ngrok.connect(8000)\n",
        "print(f'Servidor FastAPI url: {url_publica}')\n",
        "\n",
        "uvicorn.run(app, host=\"0.0.0.0\", port=8000)"
      ],
      "metadata": {
        "id": "gJ16edRSXfeL"
      },
      "execution_count": null,
      "outputs": []
    }
  ]
}